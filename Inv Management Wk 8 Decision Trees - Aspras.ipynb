{
 "cells": [
  {
   "cell_type": "code",
   "execution_count": 1,
   "metadata": {},
   "outputs": [],
   "source": [
    "#Please  construct  a  new  dataset  by  either  adding  two  independent  variables  or  removing  two independent\n",
    "#variables  from  finalsample.dta  dataset.  If  you  choose  to  add  two  independent variables, you could add \n",
    "#any two independent variables that you think help explain stock returns. If  you  choose  to  remove  two  \n",
    "#independent  variables,  you  could  remove  any  two  independent variables that already exist in the \n",
    "#finalsample.dta dataset.\n",
    "import numpy as np\n",
    "import pandas as pd\n",
    "import matplotlib.pyplot as plt\n",
    "import matplotlib.dates as dates\n",
    "import statsmodels.api as sm\n",
    "from sklearn.tree import DecisionTreeRegressor\n",
    "from sklearn import tree\n",
    "from sklearn.ensemble import ExtraTreesRegressor\n",
    "from sklearn.experimental import enable_hist_gradient_boosting\n",
    "from sklearn.ensemble import HistGradientBoostingRegressor\n",
    "from sklearn.ensemble import RandomForestRegressor"
   ]
  },
  {
   "cell_type": "code",
   "execution_count": 2,
   "metadata": {},
   "outputs": [
    {
     "data": {
      "text/plain": [
       "Index(['gvkey', 'datadate', 'sic_2', 'lagdate', 'lagRet2', 'lagVOL2',\n",
       "       'lagPrice2', 'lagMV2', 'lagShareturnover2', 'lagRet2_sic', 'lagRet12',\n",
       "       'lagVOL12', 'lagShareturnover12', 'lagRet12_std', 'lagRet12_min',\n",
       "       'lagRet12_max', 'lagRet12_sic', 'lagdatadate', 'atq', 'ceqq', 'cheq',\n",
       "       'dlttq', 'epspiq', 'saleq', 'dvpspq', 'sp500_ret_d', 'nasdaq_ret_d',\n",
       "       'r2000_ret_d', 'dollar_ret_d', 'VIX', 'yield_3m', 'yield_10y',\n",
       "       'gdp_growth', 'Bull_ave', 'Bull_Bear', 'ret', 'debt', 'cash', 'sale',\n",
       "       'BM', 'PE', 'div_p', 'loglagPrice2', 'loglagVOL12', 'loglagMV2',\n",
       "       'logatq', 'loglagVOL2'],\n",
       "      dtype='object')"
      ]
     },
     "execution_count": 2,
     "metadata": {},
     "output_type": "execute_result"
    }
   ],
   "source": [
    "dectreedata=pd.read_stata('/Users/jimmyaspras/Downloads/finalsample.dta')\n",
    "dectreedata.columns"
   ]
  },
  {
   "cell_type": "code",
   "execution_count": 3,
   "metadata": {},
   "outputs": [
    {
     "name": "stderr",
     "output_type": "stream",
     "text": [
      "<ipython-input-3-b5596d44336b>:3: SettingWithCopyWarning: \n",
      "A value is trying to be set on a copy of a slice from a DataFrame.\n",
      "Try using .loc[row_indexer,col_indexer] = value instead\n",
      "\n",
      "See the caveats in the documentation: https://pandas.pydata.org/pandas-docs/stable/user_guide/indexing.html#returning-a-view-versus-a-copy\n",
      "  dectreedata1['Year']=dectreedata1['datadate'].dt.year\n",
      "<ipython-input-3-b5596d44336b>:4: SettingWithCopyWarning: \n",
      "A value is trying to be set on a copy of a slice from a DataFrame.\n",
      "Try using .loc[row_indexer,col_indexer] = value instead\n",
      "\n",
      "See the caveats in the documentation: https://pandas.pydata.org/pandas-docs/stable/user_guide/indexing.html#returning-a-view-versus-a-copy\n",
      "  dectreedata1['Month']=dectreedata1['datadate'].dt.month\n"
     ]
    },
    {
     "data": {
      "text/html": [
       "<div>\n",
       "<style scoped>\n",
       "    .dataframe tbody tr th:only-of-type {\n",
       "        vertical-align: middle;\n",
       "    }\n",
       "\n",
       "    .dataframe tbody tr th {\n",
       "        vertical-align: top;\n",
       "    }\n",
       "\n",
       "    .dataframe thead th {\n",
       "        text-align: right;\n",
       "    }\n",
       "</style>\n",
       "<table border=\"1\" class=\"dataframe\">\n",
       "  <thead>\n",
       "    <tr style=\"text-align: right;\">\n",
       "      <th></th>\n",
       "      <th></th>\n",
       "      <th>sic_2</th>\n",
       "      <th>lagdate</th>\n",
       "      <th>lagRet2</th>\n",
       "      <th>lagVOL2</th>\n",
       "      <th>lagPrice2</th>\n",
       "      <th>lagMV2</th>\n",
       "      <th>lagShareturnover2</th>\n",
       "      <th>lagRet2_sic</th>\n",
       "      <th>lagRet12</th>\n",
       "      <th>lagVOL12</th>\n",
       "      <th>...</th>\n",
       "      <th>BM</th>\n",
       "      <th>PE</th>\n",
       "      <th>div_p</th>\n",
       "      <th>loglagPrice2</th>\n",
       "      <th>loglagVOL12</th>\n",
       "      <th>loglagMV2</th>\n",
       "      <th>logatq</th>\n",
       "      <th>loglagVOL2</th>\n",
       "      <th>Year</th>\n",
       "      <th>Month</th>\n",
       "    </tr>\n",
       "    <tr>\n",
       "      <th>gvkey</th>\n",
       "      <th>datadate</th>\n",
       "      <th></th>\n",
       "      <th></th>\n",
       "      <th></th>\n",
       "      <th></th>\n",
       "      <th></th>\n",
       "      <th></th>\n",
       "      <th></th>\n",
       "      <th></th>\n",
       "      <th></th>\n",
       "      <th></th>\n",
       "      <th></th>\n",
       "      <th></th>\n",
       "      <th></th>\n",
       "      <th></th>\n",
       "      <th></th>\n",
       "      <th></th>\n",
       "      <th></th>\n",
       "      <th></th>\n",
       "      <th></th>\n",
       "      <th></th>\n",
       "      <th></th>\n",
       "    </tr>\n",
       "  </thead>\n",
       "  <tbody>\n",
       "    <tr>\n",
       "      <th>1004.0</th>\n",
       "      <th>2001-04-30</th>\n",
       "      <td>50.0</td>\n",
       "      <td>2001-02-28</td>\n",
       "      <td>-0.104674</td>\n",
       "      <td>1129800.0</td>\n",
       "      <td>13.600</td>\n",
       "      <td>366.27520</td>\n",
       "      <td>0.041950</td>\n",
       "      <td>-0.048423</td>\n",
       "      <td>0.052613</td>\n",
       "      <td>1481250.0</td>\n",
       "      <td>...</td>\n",
       "      <td>0.931715</td>\n",
       "      <td>85.000000</td>\n",
       "      <td>0.006250</td>\n",
       "      <td>2.610070</td>\n",
       "      <td>14.208397</td>\n",
       "      <td>5.903385</td>\n",
       "      <td>6.650203</td>\n",
       "      <td>13.937551</td>\n",
       "      <td>2001</td>\n",
       "      <td>4</td>\n",
       "    </tr>\n",
       "    <tr>\n",
       "      <th>30915.0</th>\n",
       "      <th>2001-04-30</th>\n",
       "      <td>33.0</td>\n",
       "      <td>2001-02-28</td>\n",
       "      <td>-0.050095</td>\n",
       "      <td>63300.0</td>\n",
       "      <td>10.050</td>\n",
       "      <td>91.80675</td>\n",
       "      <td>0.006929</td>\n",
       "      <td>0.004113</td>\n",
       "      <td>-0.018221</td>\n",
       "      <td>239500.0</td>\n",
       "      <td>...</td>\n",
       "      <td>1.624488</td>\n",
       "      <td>37.222222</td>\n",
       "      <td>0.000000</td>\n",
       "      <td>2.307573</td>\n",
       "      <td>12.386309</td>\n",
       "      <td>4.519686</td>\n",
       "      <td>5.489338</td>\n",
       "      <td>11.055641</td>\n",
       "      <td>2001</td>\n",
       "      <td>4</td>\n",
       "    </tr>\n",
       "    <tr>\n",
       "      <th>31170.0</th>\n",
       "      <th>2001-04-30</th>\n",
       "      <td>33.0</td>\n",
       "      <td>2001-02-28</td>\n",
       "      <td>-0.079365</td>\n",
       "      <td>296200.0</td>\n",
       "      <td>7.250</td>\n",
       "      <td>44.02925</td>\n",
       "      <td>0.048773</td>\n",
       "      <td>0.004113</td>\n",
       "      <td>-0.005784</td>\n",
       "      <td>345900.0</td>\n",
       "      <td>...</td>\n",
       "      <td>1.076057</td>\n",
       "      <td>34.523810</td>\n",
       "      <td>0.000000</td>\n",
       "      <td>1.981001</td>\n",
       "      <td>12.753905</td>\n",
       "      <td>3.784854</td>\n",
       "      <td>4.315018</td>\n",
       "      <td>12.598790</td>\n",
       "      <td>2001</td>\n",
       "      <td>4</td>\n",
       "    </tr>\n",
       "    <tr>\n",
       "      <th>31600.0</th>\n",
       "      <th>2001-04-30</th>\n",
       "      <td>33.0</td>\n",
       "      <td>2001-02-28</td>\n",
       "      <td>-0.035294</td>\n",
       "      <td>1058400.0</td>\n",
       "      <td>5.125</td>\n",
       "      <td>84.70600</td>\n",
       "      <td>0.064037</td>\n",
       "      <td>0.004113</td>\n",
       "      <td>0.078186</td>\n",
       "      <td>1158450.0</td>\n",
       "      <td>...</td>\n",
       "      <td>3.812655</td>\n",
       "      <td>36.607143</td>\n",
       "      <td>0.009756</td>\n",
       "      <td>1.634131</td>\n",
       "      <td>13.962593</td>\n",
       "      <td>4.439186</td>\n",
       "      <td>6.527946</td>\n",
       "      <td>13.872269</td>\n",
       "      <td>2001</td>\n",
       "      <td>4</td>\n",
       "    </tr>\n",
       "    <tr>\n",
       "      <th>61635.0</th>\n",
       "      <th>2001-04-30</th>\n",
       "      <td>33.0</td>\n",
       "      <td>2001-02-28</td>\n",
       "      <td>0.044444</td>\n",
       "      <td>201200.0</td>\n",
       "      <td>11.750</td>\n",
       "      <td>76.35150</td>\n",
       "      <td>0.030963</td>\n",
       "      <td>0.004113</td>\n",
       "      <td>0.318682</td>\n",
       "      <td>341450.0</td>\n",
       "      <td>...</td>\n",
       "      <td>1.379685</td>\n",
       "      <td>28.658537</td>\n",
       "      <td>0.000000</td>\n",
       "      <td>2.463853</td>\n",
       "      <td>12.740957</td>\n",
       "      <td>4.335348</td>\n",
       "      <td>5.667520</td>\n",
       "      <td>12.212055</td>\n",
       "      <td>2001</td>\n",
       "      <td>4</td>\n",
       "    </tr>\n",
       "  </tbody>\n",
       "</table>\n",
       "<p>5 rows × 47 columns</p>\n",
       "</div>"
      ],
      "text/plain": [
       "                    sic_2    lagdate   lagRet2    lagVOL2  lagPrice2  \\\n",
       "gvkey   datadate                                                       \n",
       "1004.0  2001-04-30   50.0 2001-02-28 -0.104674  1129800.0     13.600   \n",
       "30915.0 2001-04-30   33.0 2001-02-28 -0.050095    63300.0     10.050   \n",
       "31170.0 2001-04-30   33.0 2001-02-28 -0.079365   296200.0      7.250   \n",
       "31600.0 2001-04-30   33.0 2001-02-28 -0.035294  1058400.0      5.125   \n",
       "61635.0 2001-04-30   33.0 2001-02-28  0.044444   201200.0     11.750   \n",
       "\n",
       "                       lagMV2  lagShareturnover2  lagRet2_sic  lagRet12  \\\n",
       "gvkey   datadate                                                          \n",
       "1004.0  2001-04-30  366.27520           0.041950    -0.048423  0.052613   \n",
       "30915.0 2001-04-30   91.80675           0.006929     0.004113 -0.018221   \n",
       "31170.0 2001-04-30   44.02925           0.048773     0.004113 -0.005784   \n",
       "31600.0 2001-04-30   84.70600           0.064037     0.004113  0.078186   \n",
       "61635.0 2001-04-30   76.35150           0.030963     0.004113  0.318682   \n",
       "\n",
       "                     lagVOL12  ...        BM         PE     div_p  \\\n",
       "gvkey   datadate               ...                                  \n",
       "1004.0  2001-04-30  1481250.0  ...  0.931715  85.000000  0.006250   \n",
       "30915.0 2001-04-30   239500.0  ...  1.624488  37.222222  0.000000   \n",
       "31170.0 2001-04-30   345900.0  ...  1.076057  34.523810  0.000000   \n",
       "31600.0 2001-04-30  1158450.0  ...  3.812655  36.607143  0.009756   \n",
       "61635.0 2001-04-30   341450.0  ...  1.379685  28.658537  0.000000   \n",
       "\n",
       "                    loglagPrice2  loglagVOL12 loglagMV2    logatq  loglagVOL2  \\\n",
       "gvkey   datadate                                                                \n",
       "1004.0  2001-04-30      2.610070    14.208397  5.903385  6.650203   13.937551   \n",
       "30915.0 2001-04-30      2.307573    12.386309  4.519686  5.489338   11.055641   \n",
       "31170.0 2001-04-30      1.981001    12.753905  3.784854  4.315018   12.598790   \n",
       "31600.0 2001-04-30      1.634131    13.962593  4.439186  6.527946   13.872269   \n",
       "61635.0 2001-04-30      2.463853    12.740957  4.335348  5.667520   12.212055   \n",
       "\n",
       "                    Year  Month  \n",
       "gvkey   datadate                 \n",
       "1004.0  2001-04-30  2001      4  \n",
       "30915.0 2001-04-30  2001      4  \n",
       "31170.0 2001-04-30  2001      4  \n",
       "31600.0 2001-04-30  2001      4  \n",
       "61635.0 2001-04-30  2001      4  \n",
       "\n",
       "[5 rows x 47 columns]"
      ]
     },
     "execution_count": 3,
     "metadata": {},
     "output_type": "execute_result"
    }
   ],
   "source": [
    "dectreedata.sort_values(by=['datadate'], inplace=True)\n",
    "dectreedata1=dectreedata[dectreedata['lagPrice2']>=5]#remove penny stocks\n",
    "dectreedata1['Year']=dectreedata1['datadate'].dt.year\n",
    "dectreedata1['Month']=dectreedata1['datadate'].dt.month\n",
    "#set gvkey and datadate as the index\n",
    "dectreedata1=dectreedata1.set_index(['gvkey','datadate'])\n",
    "dectreedata1.head()"
   ]
  },
  {
   "cell_type": "code",
   "execution_count": 4,
   "metadata": {},
   "outputs": [],
   "source": [
    "#Split  your  new  dataset  into  training  and  testing  samples.  Testing  sample  should  include  data \n",
    "#with year>=2016. \n",
    "#\n",
    "#Drop dvpspq and atq from the train/test data\n",
    "#\n",
    "train=dectreedata1[dectreedata1['Year']<2016]\n",
    "X_train=train[['sic_2', 'lagRet2', 'lagVOL2',\n",
    "       'lagPrice2', 'lagMV2', 'lagShareturnover2', 'lagRet2_sic', 'lagRet12',\n",
    "       'lagVOL12', 'lagShareturnover12', 'lagRet12_std', 'lagRet12_min',\n",
    "       'lagRet12_max', 'lagRet12_sic', 'ceqq', 'cheq',\n",
    "       'dlttq', 'epspiq', 'saleq', 'sp500_ret_d', 'nasdaq_ret_d',\n",
    "       'r2000_ret_d', 'dollar_ret_d', 'VIX', 'yield_3m', 'yield_10y',\n",
    "       'gdp_growth', 'Bull_ave', 'Bull_Bear', 'ret', 'debt', 'cash', 'sale',\n",
    "       'BM', 'PE', 'div_p', 'loglagPrice2', 'loglagVOL12', 'loglagMV2',\n",
    "       'logatq', 'loglagVOL2']]"
   ]
  },
  {
   "cell_type": "code",
   "execution_count": 5,
   "metadata": {},
   "outputs": [],
   "source": [
    "#Set return as the dependent training variable\n",
    "Y_train=train[['ret']]"
   ]
  },
  {
   "cell_type": "code",
   "execution_count": 6,
   "metadata": {},
   "outputs": [],
   "source": [
    "#Set testing independent variables\n",
    "test=dectreedata1[dectreedata1['Year']>=2016]\n",
    "X_test=test[['sic_2', 'lagRet2', 'lagVOL2',\n",
    "       'lagPrice2', 'lagMV2', 'lagShareturnover2', 'lagRet2_sic', 'lagRet12',\n",
    "       'lagVOL12', 'lagShareturnover12', 'lagRet12_std', 'lagRet12_min',\n",
    "       'lagRet12_max', 'lagRet12_sic', 'ceqq', 'cheq',\n",
    "       'dlttq', 'epspiq', 'saleq', 'sp500_ret_d', 'nasdaq_ret_d',\n",
    "       'r2000_ret_d', 'dollar_ret_d', 'VIX', 'yield_3m', 'yield_10y',\n",
    "       'gdp_growth', 'Bull_ave', 'Bull_Bear', 'ret', 'debt', 'cash', 'sale',\n",
    "       'BM', 'PE', 'div_p', 'loglagPrice2', 'loglagVOL12', 'loglagMV2',\n",
    "       'logatq', 'loglagVOL2']]"
   ]
  },
  {
   "cell_type": "code",
   "execution_count": 7,
   "metadata": {},
   "outputs": [],
   "source": [
    "#Set return as the dependent testing variable\n",
    "Y_test=test[['ret']]"
   ]
  },
  {
   "cell_type": "code",
   "execution_count": 8,
   "metadata": {},
   "outputs": [],
   "source": [
    "#Calculate avg monthly risk free return\n",
    "rf1=pd.read_excel(\"/Users/jimmyaspras/Downloads/Treasury bill.xlsx\")\n",
    "rf1['rf']=rf1['DGS3MO']/1200\n",
    "rf2=rf1[['Date','rf']].dropna()\n",
    "rf2['Year']=rf2['Date'].dt.year\n",
    "rf2['Month']=rf2['Date'].dt.month\n",
    "rf3=rf2[['Year','Month','rf']].groupby(['Year','Month'], as_index=False).mean()"
   ]
  },
  {
   "cell_type": "code",
   "execution_count": 9,
   "metadata": {},
   "outputs": [],
   "source": [
    "#Import benchmark index return\n",
    "indexret1=pd.read_stata(\"/Users/jimmyaspras/Downloads/Index return.dta\")"
   ]
  },
  {
   "cell_type": "code",
   "execution_count": 10,
   "metadata": {},
   "outputs": [
    {
     "data": {
      "text/plain": [
       "DecisionTreeRegressor(min_samples_leaf=75)"
      ]
     },
     "execution_count": 10,
     "metadata": {},
     "output_type": "execute_result"
    }
   ],
   "source": [
    "#Give a value for min_samples_leaf (you could pick any value) and train DecisionTreeRegressor using your\n",
    "#new training sample. Use the trained model to predict returns based on your new testing sample. \n",
    "#Report the average return of the portfolio that consists of the 100 stocks with the highest predicted \n",
    "#returns in each year-month. Also, report the Sharpe ratio of the portfolio. \n",
    "DTree_m= DecisionTreeRegressor(min_samples_leaf=75)\n",
    "DTree_m.fit(X_train,Y_train)"
   ]
  },
  {
   "cell_type": "code",
   "execution_count": 11,
   "metadata": {},
   "outputs": [],
   "source": [
    "Y_predict=pd.DataFrame(DTree_m.predict(X_test), columns=['Y_predict'])\n",
    "Y_test1=pd.DataFrame(Y_test).reset_index()\n",
    "Comb1=pd.merge(Y_test1, Y_predict, left_index=True,right_index=True,how='inner')\n",
    "Comb1['Year']=Comb1['datadate'].dt.year\n",
    "Comb1['Month']=Comb1['datadate'].dt.month"
   ]
  },
  {
   "cell_type": "code",
   "execution_count": 12,
   "metadata": {},
   "outputs": [
    {
     "data": {
      "text/plain": [
       "2020-08-31    102\n",
       "2021-02-28    101\n",
       "2019-06-30    101\n",
       "2016-07-31    101\n",
       "2018-07-31    100\n",
       "             ... \n",
       "2020-10-31     99\n",
       "2020-05-31     99\n",
       "2019-02-28     99\n",
       "2016-05-31     99\n",
       "2020-11-30     98\n",
       "Name: datadate, Length: 64, dtype: int64"
      ]
     },
     "execution_count": 12,
     "metadata": {},
     "output_type": "execute_result"
    }
   ],
   "source": [
    "#Rank stocks by return\n",
    "rank1=Comb1[['Y_predict','Year', 'Month']].groupby(['Year','Month'],as_index=False).rank(ascending=False)\n",
    "rank1.rename(columns={'Y_predict':'Y_predict_rank'},inplace=True)\n",
    "stock_long1=pd.merge(Comb1,rank1,left_index=True, right_index=True)\n",
    "stock_long2=stock_long1[stock_long1['Y_predict_rank']<=100]\n",
    "stock_long2['datadate'].value_counts()"
   ]
  },
  {
   "cell_type": "code",
   "execution_count": 13,
   "metadata": {},
   "outputs": [],
   "source": [
    "#Calculate returns\n",
    "stock_long3=stock_long2[['ret','Year','Month']].groupby(['Year','Month']).mean()"
   ]
  },
  {
   "cell_type": "code",
   "execution_count": 14,
   "metadata": {},
   "outputs": [
    {
     "data": {
      "text/html": [
       "<table class=\"simpletable\">\n",
       "<caption>OLS Regression Results</caption>\n",
       "<tr>\n",
       "  <th>Dep. Variable:</th>           <td>ret</td>       <th>  R-squared:         </th> <td>  -0.000</td>\n",
       "</tr>\n",
       "<tr>\n",
       "  <th>Model:</th>                   <td>OLS</td>       <th>  Adj. R-squared:    </th> <td>  -0.000</td>\n",
       "</tr>\n",
       "<tr>\n",
       "  <th>Method:</th>             <td>Least Squares</td>  <th>  F-statistic:       </th> <td>     nan</td>\n",
       "</tr>\n",
       "<tr>\n",
       "  <th>Date:</th>             <td>Sat, 31 Jul 2021</td> <th>  Prob (F-statistic):</th>  <td>   nan</td> \n",
       "</tr>\n",
       "<tr>\n",
       "  <th>Time:</th>                 <td>21:29:57</td>     <th>  Log-Likelihood:    </th> <td>  30.645</td>\n",
       "</tr>\n",
       "<tr>\n",
       "  <th>No. Observations:</th>      <td>    64</td>      <th>  AIC:               </th> <td>  -59.29</td>\n",
       "</tr>\n",
       "<tr>\n",
       "  <th>Df Residuals:</th>          <td>    63</td>      <th>  BIC:               </th> <td>  -57.13</td>\n",
       "</tr>\n",
       "<tr>\n",
       "  <th>Df Model:</th>              <td>     0</td>      <th>                     </th>     <td> </td>   \n",
       "</tr>\n",
       "<tr>\n",
       "  <th>Covariance Type:</th>         <td>HC0</td>       <th>                     </th>     <td> </td>   \n",
       "</tr>\n",
       "</table>\n",
       "<table class=\"simpletable\">\n",
       "<tr>\n",
       "    <td></td>       <th>coef</th>     <th>std err</th>      <th>t</th>      <th>P>|t|</th>  <th>[0.025</th>    <th>0.975]</th>  \n",
       "</tr>\n",
       "<tr>\n",
       "  <th>const</th> <td>    0.3701</td> <td>    0.019</td> <td>   19.752</td> <td> 0.000</td> <td>    0.333</td> <td>    0.408</td>\n",
       "</tr>\n",
       "</table>\n",
       "<table class=\"simpletable\">\n",
       "<tr>\n",
       "  <th>Omnibus:</th>       <td>31.643</td> <th>  Durbin-Watson:     </th> <td>   1.339</td>\n",
       "</tr>\n",
       "<tr>\n",
       "  <th>Prob(Omnibus):</th> <td> 0.000</td> <th>  Jarque-Bera (JB):  </th> <td>  63.275</td>\n",
       "</tr>\n",
       "<tr>\n",
       "  <th>Skew:</th>          <td> 1.674</td> <th>  Prob(JB):          </th> <td>1.82e-14</td>\n",
       "</tr>\n",
       "<tr>\n",
       "  <th>Kurtosis:</th>      <td> 6.539</td> <th>  Cond. No.          </th> <td>    1.00</td>\n",
       "</tr>\n",
       "</table><br/><br/>Warnings:<br/>[1] Standard Errors are heteroscedasticity robust (HC0)"
      ],
      "text/plain": [
       "<class 'statsmodels.iolib.summary.Summary'>\n",
       "\"\"\"\n",
       "                            OLS Regression Results                            \n",
       "==============================================================================\n",
       "Dep. Variable:                    ret   R-squared:                      -0.000\n",
       "Model:                            OLS   Adj. R-squared:                 -0.000\n",
       "Method:                 Least Squares   F-statistic:                       nan\n",
       "Date:                Sat, 31 Jul 2021   Prob (F-statistic):                nan\n",
       "Time:                        21:29:57   Log-Likelihood:                 30.645\n",
       "No. Observations:                  64   AIC:                            -59.29\n",
       "Df Residuals:                      63   BIC:                            -57.13\n",
       "Df Model:                           0                                         \n",
       "Covariance Type:                  HC0                                         \n",
       "==============================================================================\n",
       "                 coef    std err          t      P>|t|      [0.025      0.975]\n",
       "------------------------------------------------------------------------------\n",
       "const          0.3701      0.019     19.752      0.000       0.333       0.408\n",
       "==============================================================================\n",
       "Omnibus:                       31.643   Durbin-Watson:                   1.339\n",
       "Prob(Omnibus):                  0.000   Jarque-Bera (JB):               63.275\n",
       "Skew:                           1.674   Prob(JB):                     1.82e-14\n",
       "Kurtosis:                       6.539   Cond. No.                         1.00\n",
       "==============================================================================\n",
       "\n",
       "Warnings:\n",
       "[1] Standard Errors are heteroscedasticity robust (HC0)\n",
       "\"\"\""
      ]
     },
     "execution_count": 14,
     "metadata": {},
     "output_type": "execute_result"
    }
   ],
   "source": [
    "#Merge rf and index\n",
    "stock_long4=pd.merge(stock_long3, rf3, left_on=['Year','Month'], right_on=['Year','Month'], how='left')\n",
    "stock_long5=pd.merge(stock_long4, indexret1, left_on=['Year','Month'], right_on=['Year','Month'], how='left')\n",
    "stock_long5['ret_rf']=stock_long5['ret']-stock_long5['rf']\n",
    "stock_long5['ret_sp500']=stock_long5['ret']-stock_long5['sp500_ret_m']\n",
    "stock_long5=sm.add_constant(stock_long5)\n",
    "sm.OLS(stock_long5[['ret']],stock_long5[['const']]).fit().get_robustcov_results(cov_type='HC0').summary()"
   ]
  },
  {
   "cell_type": "code",
   "execution_count": 15,
   "metadata": {},
   "outputs": [],
   "source": [
    "#The decicion tree model produces returns of 37.01% above the market. This is statistically significant with a\n",
    "#p-value of 0"
   ]
  },
  {
   "cell_type": "code",
   "execution_count": 16,
   "metadata": {},
   "outputs": [
    {
     "data": {
      "text/plain": [
       "ret_rf    8.449539\n",
       "dtype: float64"
      ]
     },
     "execution_count": 16,
     "metadata": {},
     "output_type": "execute_result"
    }
   ],
   "source": [
    "#Calculate Sharpe ratio\n",
    "Ret_rf=stock_long5[['ret_rf']]\n",
    "SR=(Ret_rf.mean()/Ret_rf.std())*np.sqrt(12)\n",
    "SR"
   ]
  },
  {
   "cell_type": "code",
   "execution_count": 17,
   "metadata": {},
   "outputs": [
    {
     "data": {
      "text/plain": [
       "RandomForestRegressor(max_samples=0.5, min_samples_leaf=150, n_estimators=150,\n",
       "                      n_jobs=-1)"
      ]
     },
     "execution_count": 17,
     "metadata": {},
     "output_type": "execute_result"
    }
   ],
   "source": [
    "#Give values for min_samples_leaf, n_estimators, and max_samples, and train RandomForestRegressor using your \n",
    "#new training sample. Use the trained model to predict returns based on your new testing sample. \n",
    "#Report the average return of the portfolio that consists of the 100 stocks with the highest predicted \n",
    "#returns in each year-month. Also, report the Sharpe ratio of the portfolio.\n",
    "RFor_m= RandomForestRegressor(n_estimators=150, min_samples_leaf=150,bootstrap=True,max_samples=0.5,n_jobs=-1)\n",
    "#n_estimators:The number of trees in the forest.\n",
    "#bootstrap: whether use a different subsample of training sample to train each tree\n",
    "#max_samples=0.5: randomly draw 50% of the training sample to train each tree\n",
    "#n_jobs=-1 means using all CPU processors\n",
    "RFor_m.fit(X_train,Y_train.values.ravel())"
   ]
  },
  {
   "cell_type": "code",
   "execution_count": 18,
   "metadata": {},
   "outputs": [],
   "source": [
    "#Predict returns\n",
    "Y_predict=pd.DataFrame(RFor_m.predict(X_test), columns=['Y_predict'])\n",
    "#Merge with actual returns\n",
    "Y_test1=pd.DataFrame(Y_test).reset_index()\n",
    "Comb1=pd.merge(Y_test1, Y_predict, left_index=True,right_index=True,how='inner')\n",
    "Comb1['Year']=Comb1['datadate'].dt.year\n",
    "Comb1['Month']=Comb1['datadate'].dt.month"
   ]
  },
  {
   "cell_type": "code",
   "execution_count": 19,
   "metadata": {},
   "outputs": [
    {
     "data": {
      "text/plain": [
       "2017-10-31    100\n",
       "2016-05-31    100\n",
       "2019-08-31    100\n",
       "2018-03-31    100\n",
       "2019-04-30    100\n",
       "             ... \n",
       "2020-09-30    100\n",
       "2020-12-31    100\n",
       "2019-03-31    100\n",
       "2021-02-28    100\n",
       "2016-04-30     99\n",
       "Name: datadate, Length: 64, dtype: int64"
      ]
     },
     "execution_count": 19,
     "metadata": {},
     "output_type": "execute_result"
    }
   ],
   "source": [
    "#Rank stocks\n",
    "rank1=Comb1[['Y_predict','Year', 'Month']].groupby(['Year','Month'],as_index=False).rank(ascending=False)\n",
    "rank1.rename(columns={'Y_predict':'Y_predict_rank'},inplace=True)\n",
    "stock_long1=pd.merge(Comb1,rank1,left_index=True, right_index=True)\n",
    "stock_long2=stock_long1[stock_long1['Y_predict_rank']<=100] #Select 100 best\n",
    "stock_long2['datadate'].value_counts()"
   ]
  },
  {
   "cell_type": "code",
   "execution_count": 20,
   "metadata": {},
   "outputs": [],
   "source": [
    "#Calculate returns\n",
    "stock_long3=stock_long2[['ret','Year','Month']].groupby(['Year','Month']).mean()"
   ]
  },
  {
   "cell_type": "code",
   "execution_count": 21,
   "metadata": {},
   "outputs": [
    {
     "data": {
      "text/html": [
       "<table class=\"simpletable\">\n",
       "<caption>OLS Regression Results</caption>\n",
       "<tr>\n",
       "  <th>Dep. Variable:</th>           <td>ret</td>       <th>  R-squared:         </th> <td>   0.000</td>\n",
       "</tr>\n",
       "<tr>\n",
       "  <th>Model:</th>                   <td>OLS</td>       <th>  Adj. R-squared:    </th> <td>   0.000</td>\n",
       "</tr>\n",
       "<tr>\n",
       "  <th>Method:</th>             <td>Least Squares</td>  <th>  F-statistic:       </th> <td>     nan</td>\n",
       "</tr>\n",
       "<tr>\n",
       "  <th>Date:</th>             <td>Sat, 31 Jul 2021</td> <th>  Prob (F-statistic):</th>  <td>   nan</td> \n",
       "</tr>\n",
       "<tr>\n",
       "  <th>Time:</th>                 <td>21:41:27</td>     <th>  Log-Likelihood:    </th> <td>  30.757</td>\n",
       "</tr>\n",
       "<tr>\n",
       "  <th>No. Observations:</th>      <td>    64</td>      <th>  AIC:               </th> <td>  -59.51</td>\n",
       "</tr>\n",
       "<tr>\n",
       "  <th>Df Residuals:</th>          <td>    63</td>      <th>  BIC:               </th> <td>  -57.36</td>\n",
       "</tr>\n",
       "<tr>\n",
       "  <th>Df Model:</th>              <td>     0</td>      <th>                     </th>     <td> </td>   \n",
       "</tr>\n",
       "<tr>\n",
       "  <th>Covariance Type:</th>         <td>HC0</td>       <th>                     </th>     <td> </td>   \n",
       "</tr>\n",
       "</table>\n",
       "<table class=\"simpletable\">\n",
       "<tr>\n",
       "    <td></td>       <th>coef</th>     <th>std err</th>      <th>t</th>      <th>P>|t|</th>  <th>[0.025</th>    <th>0.975]</th>  \n",
       "</tr>\n",
       "<tr>\n",
       "  <th>const</th> <td>    0.3699</td> <td>    0.019</td> <td>   19.774</td> <td> 0.000</td> <td>    0.332</td> <td>    0.407</td>\n",
       "</tr>\n",
       "</table>\n",
       "<table class=\"simpletable\">\n",
       "<tr>\n",
       "  <th>Omnibus:</th>       <td>31.477</td> <th>  Durbin-Watson:     </th> <td>   1.344</td>\n",
       "</tr>\n",
       "<tr>\n",
       "  <th>Prob(Omnibus):</th> <td> 0.000</td> <th>  Jarque-Bera (JB):  </th> <td>  62.599</td>\n",
       "</tr>\n",
       "<tr>\n",
       "  <th>Skew:</th>          <td> 1.667</td> <th>  Prob(JB):          </th> <td>2.55e-14</td>\n",
       "</tr>\n",
       "<tr>\n",
       "  <th>Kurtosis:</th>      <td> 6.515</td> <th>  Cond. No.          </th> <td>    1.00</td>\n",
       "</tr>\n",
       "</table><br/><br/>Warnings:<br/>[1] Standard Errors are heteroscedasticity robust (HC0)"
      ],
      "text/plain": [
       "<class 'statsmodels.iolib.summary.Summary'>\n",
       "\"\"\"\n",
       "                            OLS Regression Results                            \n",
       "==============================================================================\n",
       "Dep. Variable:                    ret   R-squared:                       0.000\n",
       "Model:                            OLS   Adj. R-squared:                  0.000\n",
       "Method:                 Least Squares   F-statistic:                       nan\n",
       "Date:                Sat, 31 Jul 2021   Prob (F-statistic):                nan\n",
       "Time:                        21:41:27   Log-Likelihood:                 30.757\n",
       "No. Observations:                  64   AIC:                            -59.51\n",
       "Df Residuals:                      63   BIC:                            -57.36\n",
       "Df Model:                           0                                         \n",
       "Covariance Type:                  HC0                                         \n",
       "==============================================================================\n",
       "                 coef    std err          t      P>|t|      [0.025      0.975]\n",
       "------------------------------------------------------------------------------\n",
       "const          0.3699      0.019     19.774      0.000       0.332       0.407\n",
       "==============================================================================\n",
       "Omnibus:                       31.477   Durbin-Watson:                   1.344\n",
       "Prob(Omnibus):                  0.000   Jarque-Bera (JB):               62.599\n",
       "Skew:                           1.667   Prob(JB):                     2.55e-14\n",
       "Kurtosis:                       6.515   Cond. No.                         1.00\n",
       "==============================================================================\n",
       "\n",
       "Warnings:\n",
       "[1] Standard Errors are heteroscedasticity robust (HC0)\n",
       "\"\"\""
      ]
     },
     "execution_count": 21,
     "metadata": {},
     "output_type": "execute_result"
    }
   ],
   "source": [
    "#Merge rf and index\n",
    "stock_long4=pd.merge(stock_long3, rf3, left_on=['Year','Month'], right_on=['Year','Month'], how='left')\n",
    "stock_long5=pd.merge(stock_long4, indexret1, left_on=['Year','Month'], right_on=['Year','Month'], how='left')\n",
    "stock_long5['ret_rf']=stock_long5['ret']-stock_long5['rf']\n",
    "stock_long5['ret_sp500']=stock_long5['ret']-stock_long5['sp500_ret_m']\n",
    "stock_long5=sm.add_constant(stock_long5)\n",
    "sm.OLS(stock_long5[['ret']],stock_long5[['const']]).fit().get_robustcov_results(cov_type='HC0').summary()"
   ]
  },
  {
   "cell_type": "code",
   "execution_count": 22,
   "metadata": {},
   "outputs": [],
   "source": [
    "#The random forest decicion tree model produces returns of 36.99% above the market. This is statistically significant with a\n",
    "#p-value of 0"
   ]
  },
  {
   "cell_type": "code",
   "execution_count": 23,
   "metadata": {},
   "outputs": [
    {
     "data": {
      "text/plain": [
       "ret_rf    8.459015\n",
       "dtype: float64"
      ]
     },
     "execution_count": 23,
     "metadata": {},
     "output_type": "execute_result"
    }
   ],
   "source": [
    "#Sharpe ratio\n",
    "Ret_rf=stock_long5[['ret_rf']]\n",
    "SR=(Ret_rf.mean()/Ret_rf.std())*np.sqrt(12)\n",
    "SR"
   ]
  },
  {
   "cell_type": "code",
   "execution_count": 24,
   "metadata": {},
   "outputs": [
    {
     "data": {
      "text/plain": [
       "ExtraTreesRegressor(bootstrap=True, max_samples=0.5, min_samples_leaf=150,\n",
       "                    n_estimators=150, n_jobs=-1)"
      ]
     },
     "execution_count": 24,
     "metadata": {},
     "output_type": "execute_result"
    }
   ],
   "source": [
    "#Give    values    for    min_samples_leaf,    n_estimators,    and    max_samples,    and    train \n",
    "#ExtraTreesRegressor  using  your  new  training  sample.  Use  the  trained  model  to  predict  returns \n",
    "#based on your new testing sample. Report the average return of the portfolio that consists of the 100 \n",
    "#stocks with the highest predicted returns in each year-month. Also, report the Sharpe ratio of the portfolio.\n",
    "ETree_m= ExtraTreesRegressor(n_estimators=150, min_samples_leaf=150, bootstrap=True,max_samples=0.5,n_jobs=-1)\n",
    "ETree_m.fit(X_train,Y_train.values.ravel())"
   ]
  },
  {
   "cell_type": "code",
   "execution_count": 25,
   "metadata": {},
   "outputs": [],
   "source": [
    "#Predict returns\n",
    "Y_predict=pd.DataFrame(ETree_m.predict(X_test), columns=['Y_predict'])\n",
    "#Merge with actual\n",
    "Y_test1=pd.DataFrame(Y_test).reset_index()\n",
    "Comb1=pd.merge(Y_test1, Y_predict, left_index=True,right_index=True,how='inner')\n",
    "Comb1['Year']=Comb1['datadate'].dt.year\n",
    "Comb1['Month']=Comb1['datadate'].dt.month"
   ]
  },
  {
   "cell_type": "code",
   "execution_count": 26,
   "metadata": {},
   "outputs": [
    {
     "data": {
      "text/plain": [
       "2017-10-31    100\n",
       "2016-05-31    100\n",
       "2019-08-31    100\n",
       "2018-03-31    100\n",
       "2019-04-30    100\n",
       "             ... \n",
       "2021-01-31    100\n",
       "2020-09-30    100\n",
       "2020-12-31    100\n",
       "2019-03-31    100\n",
       "2021-02-28    100\n",
       "Name: datadate, Length: 64, dtype: int64"
      ]
     },
     "execution_count": 26,
     "metadata": {},
     "output_type": "execute_result"
    }
   ],
   "source": [
    "#Rank stocks\n",
    "rank1=Comb1[['Y_predict','Year', 'Month']].groupby(['Year','Month'],as_index=False).rank(ascending=False)\n",
    "rank1.rename(columns={'Y_predict':'Y_predict_rank'},inplace=True)\n",
    "stock_long1=pd.merge(Comb1,rank1,left_index=True, right_index=True)\n",
    "stock_long2=stock_long1[stock_long1['Y_predict_rank']<=100]\n",
    "stock_long2['datadate'].value_counts()"
   ]
  },
  {
   "cell_type": "code",
   "execution_count": 27,
   "metadata": {},
   "outputs": [],
   "source": [
    "#Calculate returns\n",
    "stock_long3=stock_long2[['ret','Year','Month']].groupby(['Year','Month']).mean()"
   ]
  },
  {
   "cell_type": "code",
   "execution_count": 28,
   "metadata": {},
   "outputs": [
    {
     "data": {
      "text/html": [
       "<table class=\"simpletable\">\n",
       "<caption>OLS Regression Results</caption>\n",
       "<tr>\n",
       "  <th>Dep. Variable:</th>           <td>ret</td>       <th>  R-squared:         </th> <td>   0.000</td>\n",
       "</tr>\n",
       "<tr>\n",
       "  <th>Model:</th>                   <td>OLS</td>       <th>  Adj. R-squared:    </th> <td>   0.000</td>\n",
       "</tr>\n",
       "<tr>\n",
       "  <th>Method:</th>             <td>Least Squares</td>  <th>  F-statistic:       </th> <td>     nan</td>\n",
       "</tr>\n",
       "<tr>\n",
       "  <th>Date:</th>             <td>Sat, 31 Jul 2021</td> <th>  Prob (F-statistic):</th>  <td>   nan</td> \n",
       "</tr>\n",
       "<tr>\n",
       "  <th>Time:</th>                 <td>21:43:21</td>     <th>  Log-Likelihood:    </th> <td>  30.970</td>\n",
       "</tr>\n",
       "<tr>\n",
       "  <th>No. Observations:</th>      <td>    64</td>      <th>  AIC:               </th> <td>  -59.94</td>\n",
       "</tr>\n",
       "<tr>\n",
       "  <th>Df Residuals:</th>          <td>    63</td>      <th>  BIC:               </th> <td>  -57.78</td>\n",
       "</tr>\n",
       "<tr>\n",
       "  <th>Df Model:</th>              <td>     0</td>      <th>                     </th>     <td> </td>   \n",
       "</tr>\n",
       "<tr>\n",
       "  <th>Covariance Type:</th>         <td>HC0</td>       <th>                     </th>     <td> </td>   \n",
       "</tr>\n",
       "</table>\n",
       "<table class=\"simpletable\">\n",
       "<tr>\n",
       "    <td></td>       <th>coef</th>     <th>std err</th>      <th>t</th>      <th>P>|t|</th>  <th>[0.025</th>    <th>0.975]</th>  \n",
       "</tr>\n",
       "<tr>\n",
       "  <th>const</th> <td>    0.3694</td> <td>    0.019</td> <td>   19.816</td> <td> 0.000</td> <td>    0.332</td> <td>    0.407</td>\n",
       "</tr>\n",
       "</table>\n",
       "<table class=\"simpletable\">\n",
       "<tr>\n",
       "  <th>Omnibus:</th>       <td>31.257</td> <th>  Durbin-Watson:     </th> <td>   1.341</td>\n",
       "</tr>\n",
       "<tr>\n",
       "  <th>Prob(Omnibus):</th> <td> 0.000</td> <th>  Jarque-Bera (JB):  </th> <td>  61.708</td>\n",
       "</tr>\n",
       "<tr>\n",
       "  <th>Skew:</th>          <td> 1.659</td> <th>  Prob(JB):          </th> <td>3.98e-14</td>\n",
       "</tr>\n",
       "<tr>\n",
       "  <th>Kurtosis:</th>      <td> 6.482</td> <th>  Cond. No.          </th> <td>    1.00</td>\n",
       "</tr>\n",
       "</table><br/><br/>Warnings:<br/>[1] Standard Errors are heteroscedasticity robust (HC0)"
      ],
      "text/plain": [
       "<class 'statsmodels.iolib.summary.Summary'>\n",
       "\"\"\"\n",
       "                            OLS Regression Results                            \n",
       "==============================================================================\n",
       "Dep. Variable:                    ret   R-squared:                       0.000\n",
       "Model:                            OLS   Adj. R-squared:                  0.000\n",
       "Method:                 Least Squares   F-statistic:                       nan\n",
       "Date:                Sat, 31 Jul 2021   Prob (F-statistic):                nan\n",
       "Time:                        21:43:21   Log-Likelihood:                 30.970\n",
       "No. Observations:                  64   AIC:                            -59.94\n",
       "Df Residuals:                      63   BIC:                            -57.78\n",
       "Df Model:                           0                                         \n",
       "Covariance Type:                  HC0                                         \n",
       "==============================================================================\n",
       "                 coef    std err          t      P>|t|      [0.025      0.975]\n",
       "------------------------------------------------------------------------------\n",
       "const          0.3694      0.019     19.816      0.000       0.332       0.407\n",
       "==============================================================================\n",
       "Omnibus:                       31.257   Durbin-Watson:                   1.341\n",
       "Prob(Omnibus):                  0.000   Jarque-Bera (JB):               61.708\n",
       "Skew:                           1.659   Prob(JB):                     3.98e-14\n",
       "Kurtosis:                       6.482   Cond. No.                         1.00\n",
       "==============================================================================\n",
       "\n",
       "Warnings:\n",
       "[1] Standard Errors are heteroscedasticity robust (HC0)\n",
       "\"\"\""
      ]
     },
     "execution_count": 28,
     "metadata": {},
     "output_type": "execute_result"
    }
   ],
   "source": [
    "#Merge rf and index\n",
    "stock_long4=pd.merge(stock_long3, rf3, left_on=['Year','Month'], right_on=['Year','Month'], how='left')\n",
    "stock_long5=pd.merge(stock_long4, indexret1, left_on=['Year','Month'], right_on=['Year','Month'], how='left')\n",
    "stock_long5['ret_rf']=stock_long5['ret']-stock_long5['rf']\n",
    "stock_long5['ret_sp500']=stock_long5['ret']-stock_long5['sp500_ret_m']\n",
    "stock_long5=sm.add_constant(stock_long5)\n",
    "sm.OLS(stock_long5[['ret']],stock_long5[['const']]).fit().get_robustcov_results(cov_type='HC0').summary()"
   ]
  },
  {
   "cell_type": "code",
   "execution_count": 29,
   "metadata": {},
   "outputs": [],
   "source": [
    "#The extra trees regressor decicion tree model produces returns of 36.96% above the market. This is statistically significant with a\n",
    "#p-value of 0"
   ]
  },
  {
   "cell_type": "code",
   "execution_count": 30,
   "metadata": {},
   "outputs": [
    {
     "data": {
      "text/plain": [
       "ret_rf    8.477013\n",
       "dtype: float64"
      ]
     },
     "execution_count": 30,
     "metadata": {},
     "output_type": "execute_result"
    }
   ],
   "source": [
    "#Sharpe ratio\n",
    "Ret_rf=stock_long5[['ret_rf']]\n",
    "SR=(Ret_rf.mean()/Ret_rf.std())*np.sqrt(12)\n",
    "SR"
   ]
  },
  {
   "cell_type": "code",
   "execution_count": 31,
   "metadata": {},
   "outputs": [
    {
     "name": "stderr",
     "output_type": "stream",
     "text": [
      "/Users/jimmyaspras/opt/anaconda3/lib/python3.8/site-packages/sklearn/utils/validation.py:63: DataConversionWarning: A column-vector y was passed when a 1d array was expected. Please change the shape of y to (n_samples, ), for example using ravel().\n",
      "  return f(*args, **kwargs)\n"
     ]
    },
    {
     "data": {
      "text/plain": [
       "HistGradientBoostingRegressor(early_stopping='True', max_iter=150,\n",
       "                              min_samples_leaf=150)"
      ]
     },
     "execution_count": 31,
     "metadata": {},
     "output_type": "execute_result"
    }
   ],
   "source": [
    "#Give  values  for  min_samples_leaf  and  max_iter,  and  train  HistGradientBoostingRegressor using your \n",
    "#new training sample. Use the trained model to predict returns based on your new testing sample. Report the average\n",
    "#return of the portfolio that consists of the 100 stocks with the highest predicted returns in each year-month. \n",
    "#Also, report the Sharpe ratio of the portfolio. \n",
    "GBR_m= HistGradientBoostingRegressor(max_iter=150, min_samples_leaf=150, early_stopping='True')\n",
    "#max_iter: The maximum number of iterations of the boosting process#early_stopping: If Yes, the algorithm use \n",
    "#internal cross-validation to determine max_iter \n",
    "GBR_m.fit(X_train,Y_train)"
   ]
  },
  {
   "cell_type": "code",
   "execution_count": 32,
   "metadata": {},
   "outputs": [],
   "source": [
    "#Predict returns\n",
    "Y_predict=pd.DataFrame(GBR_m.predict(X_test), columns=['Y_predict']) \n",
    "#Merge with actual\n",
    "Y_test1=pd.DataFrame(Y_test).reset_index()\n",
    "Comb1=pd.merge(Y_test1, Y_predict, left_index=True,right_index=True,how='inner')\n",
    "Comb1['Year']=Comb1['datadate'].dt.year\n",
    "Comb1['Month']=Comb1['datadate'].dt.month"
   ]
  },
  {
   "cell_type": "code",
   "execution_count": 33,
   "metadata": {},
   "outputs": [
    {
     "data": {
      "text/plain": [
       "2019-06-30    109\n",
       "2018-05-31    107\n",
       "2019-12-31    103\n",
       "2020-07-31    103\n",
       "2020-05-31    103\n",
       "             ... \n",
       "2016-04-30     95\n",
       "2017-11-30     95\n",
       "2018-08-31     93\n",
       "2016-12-31     93\n",
       "2016-02-29     92\n",
       "Name: datadate, Length: 64, dtype: int64"
      ]
     },
     "execution_count": 33,
     "metadata": {},
     "output_type": "execute_result"
    }
   ],
   "source": [
    "#Rank stocks\n",
    "rank1=Comb1[['Y_predict','Year', 'Month']].groupby(['Year','Month'],as_index=False).rank(ascending=False)\n",
    "rank1.rename(columns={'Y_predict':'Y_predict_rank'},inplace=True)\n",
    "stock_long1=pd.merge(Comb1,rank1,left_index=True, right_index=True)\n",
    "stock_long2=stock_long1[stock_long1['Y_predict_rank']<=100]\n",
    "stock_long2['datadate'].value_counts()"
   ]
  },
  {
   "cell_type": "code",
   "execution_count": 34,
   "metadata": {},
   "outputs": [],
   "source": [
    "#Calculate returns\n",
    "stock_long3=stock_long2[['ret','Year','Month']].groupby(['Year','Month']).mean()"
   ]
  },
  {
   "cell_type": "code",
   "execution_count": 35,
   "metadata": {},
   "outputs": [
    {
     "data": {
      "text/html": [
       "<table class=\"simpletable\">\n",
       "<caption>OLS Regression Results</caption>\n",
       "<tr>\n",
       "  <th>Dep. Variable:</th>           <td>ret</td>       <th>  R-squared:         </th> <td>  -0.000</td>\n",
       "</tr>\n",
       "<tr>\n",
       "  <th>Model:</th>                   <td>OLS</td>       <th>  Adj. R-squared:    </th> <td>  -0.000</td>\n",
       "</tr>\n",
       "<tr>\n",
       "  <th>Method:</th>             <td>Least Squares</td>  <th>  F-statistic:       </th> <td>     nan</td>\n",
       "</tr>\n",
       "<tr>\n",
       "  <th>Date:</th>             <td>Sat, 31 Jul 2021</td> <th>  Prob (F-statistic):</th>  <td>   nan</td> \n",
       "</tr>\n",
       "<tr>\n",
       "  <th>Time:</th>                 <td>21:43:30</td>     <th>  Log-Likelihood:    </th> <td>  34.602</td>\n",
       "</tr>\n",
       "<tr>\n",
       "  <th>No. Observations:</th>      <td>    64</td>      <th>  AIC:               </th> <td>  -67.20</td>\n",
       "</tr>\n",
       "<tr>\n",
       "  <th>Df Residuals:</th>          <td>    63</td>      <th>  BIC:               </th> <td>  -65.05</td>\n",
       "</tr>\n",
       "<tr>\n",
       "  <th>Df Model:</th>              <td>     0</td>      <th>                     </th>     <td> </td>   \n",
       "</tr>\n",
       "<tr>\n",
       "  <th>Covariance Type:</th>         <td>HC0</td>       <th>                     </th>     <td> </td>   \n",
       "</tr>\n",
       "</table>\n",
       "<table class=\"simpletable\">\n",
       "<tr>\n",
       "    <td></td>       <th>coef</th>     <th>std err</th>      <th>t</th>      <th>P>|t|</th>  <th>[0.025</th>    <th>0.975]</th>  \n",
       "</tr>\n",
       "<tr>\n",
       "  <th>const</th> <td>    0.3674</td> <td>    0.018</td> <td>   20.861</td> <td> 0.000</td> <td>    0.332</td> <td>    0.403</td>\n",
       "</tr>\n",
       "</table>\n",
       "<table class=\"simpletable\">\n",
       "<tr>\n",
       "  <th>Omnibus:</th>       <td>26.159</td> <th>  Durbin-Watson:     </th> <td>   1.304</td>\n",
       "</tr>\n",
       "<tr>\n",
       "  <th>Prob(Omnibus):</th> <td> 0.000</td> <th>  Jarque-Bera (JB):  </th> <td>  44.314</td>\n",
       "</tr>\n",
       "<tr>\n",
       "  <th>Skew:</th>          <td> 1.458</td> <th>  Prob(JB):          </th> <td>2.38e-10</td>\n",
       "</tr>\n",
       "<tr>\n",
       "  <th>Kurtosis:</th>      <td> 5.849</td> <th>  Cond. No.          </th> <td>    1.00</td>\n",
       "</tr>\n",
       "</table><br/><br/>Warnings:<br/>[1] Standard Errors are heteroscedasticity robust (HC0)"
      ],
      "text/plain": [
       "<class 'statsmodels.iolib.summary.Summary'>\n",
       "\"\"\"\n",
       "                            OLS Regression Results                            \n",
       "==============================================================================\n",
       "Dep. Variable:                    ret   R-squared:                      -0.000\n",
       "Model:                            OLS   Adj. R-squared:                 -0.000\n",
       "Method:                 Least Squares   F-statistic:                       nan\n",
       "Date:                Sat, 31 Jul 2021   Prob (F-statistic):                nan\n",
       "Time:                        21:43:30   Log-Likelihood:                 34.602\n",
       "No. Observations:                  64   AIC:                            -67.20\n",
       "Df Residuals:                      63   BIC:                            -65.05\n",
       "Df Model:                           0                                         \n",
       "Covariance Type:                  HC0                                         \n",
       "==============================================================================\n",
       "                 coef    std err          t      P>|t|      [0.025      0.975]\n",
       "------------------------------------------------------------------------------\n",
       "const          0.3674      0.018     20.861      0.000       0.332       0.403\n",
       "==============================================================================\n",
       "Omnibus:                       26.159   Durbin-Watson:                   1.304\n",
       "Prob(Omnibus):                  0.000   Jarque-Bera (JB):               44.314\n",
       "Skew:                           1.458   Prob(JB):                     2.38e-10\n",
       "Kurtosis:                       5.849   Cond. No.                         1.00\n",
       "==============================================================================\n",
       "\n",
       "Warnings:\n",
       "[1] Standard Errors are heteroscedasticity robust (HC0)\n",
       "\"\"\""
      ]
     },
     "execution_count": 35,
     "metadata": {},
     "output_type": "execute_result"
    }
   ],
   "source": [
    "#Merge rf and index\n",
    "stock_long4=pd.merge(stock_long3, rf3, left_on=['Year','Month'], right_on=['Year','Month'], how='left')\n",
    "stock_long5=pd.merge(stock_long4, indexret1, left_on=['Year','Month'], right_on=['Year','Month'], how='left')\n",
    "stock_long5['ret_rf']=stock_long5['ret']-stock_long5['rf']\n",
    "stock_long5['ret_sp500']=stock_long5['ret']-stock_long5['sp500_ret_m']\n",
    "stock_long5=sm.add_constant(stock_long5)\n",
    "sm.OLS(stock_long5[['ret']],stock_long5[['const']]).fit().get_robustcov_results(cov_type='HC0').summary()"
   ]
  },
  {
   "cell_type": "code",
   "execution_count": 36,
   "metadata": {},
   "outputs": [],
   "source": [
    "#The gradient boosting regressor decicion tree model produces returns of 36.72% above the market. This is statistically significant with a\n",
    "#p-value of 0"
   ]
  },
  {
   "cell_type": "code",
   "execution_count": 37,
   "metadata": {},
   "outputs": [
    {
     "data": {
      "text/plain": [
       "ret_rf    8.922558\n",
       "dtype: float64"
      ]
     },
     "execution_count": 37,
     "metadata": {},
     "output_type": "execute_result"
    }
   ],
   "source": [
    "#Sharpe ratio\n",
    "Ret_rf=stock_long5[['ret_rf']]\n",
    "SR=(Ret_rf.mean()/Ret_rf.std())*np.sqrt(12)\n",
    "SR"
   ]
  }
 ],
 "metadata": {
  "kernelspec": {
   "display_name": "Python 3",
   "language": "python",
   "name": "python3"
  },
  "language_info": {
   "codemirror_mode": {
    "name": "ipython",
    "version": 3
   },
   "file_extension": ".py",
   "mimetype": "text/x-python",
   "name": "python",
   "nbconvert_exporter": "python",
   "pygments_lexer": "ipython3",
   "version": "3.8.3"
  }
 },
 "nbformat": 4,
 "nbformat_minor": 4
}
